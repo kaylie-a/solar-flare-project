{
 "cells": [
  {
   "cell_type": "markdown",
   "id": "d0a16e29",
   "metadata": {},
   "source": [
    "constants and paths"
   ]
  },
  {
   "cell_type": "code",
   "execution_count": 2,
   "id": "0a0c5eef",
   "metadata": {},
   "outputs": [],
   "source": [
    "import os, pickle, numpy as np\n",
    "from pathlib import Path\n",
    "\n",
    "RAW_TRAIN_DIR = Path(\"../data/raw/Cleaned SWANSF Dataset/Cleaned SWANSF Dataset/train/\")\n",
    "RAW_TEST_DIR  = Path(\"../data/raw/Cleaned SWANSF Dataset/Cleaned SWANSF Dataset/test/\")\n",
    "PARTITIONS_DIR = Path(\"C:/GitHub/solar-flare-project/data_partitions/\")\n",
    "PARTITIONS_DIR.mkdir(parents=True, exist_ok=True)\n",
    "\n",
    "NUM_PARTITIONS = 5\n",
    "NUM_TIMESTEPS = 60\n",
    "NUM_FEATURES  = 24\n"
   ]
  },
  {
   "cell_type": "markdown",
   "id": "06bb2172",
   "metadata": {},
   "source": [
    "** Load data/partitions"
   ]
  },
  {
   "cell_type": "code",
   "execution_count": 3,
   "id": "7d814ea1",
   "metadata": {},
   "outputs": [
    {
     "name": "stdout",
     "output_type": "stream",
     "text": [
      "Saved train1_test1.npz\n",
      "Saved train1_test2.npz\n",
      "Saved train1_test3.npz\n",
      "Saved train1_test4.npz\n",
      "Saved train1_test5.npz\n",
      "Saved train2_test1.npz\n",
      "Saved train2_test2.npz\n",
      "Saved train2_test3.npz\n",
      "Saved train2_test4.npz\n",
      "Saved train2_test5.npz\n",
      "Saved train3_test1.npz\n",
      "Saved train3_test2.npz\n",
      "Saved train3_test3.npz\n",
      "Saved train3_test4.npz\n",
      "Saved train3_test5.npz\n",
      "Saved train4_test1.npz\n",
      "Saved train4_test2.npz\n",
      "Saved train4_test3.npz\n",
      "Saved train4_test4.npz\n",
      "Saved train4_test5.npz\n",
      "Saved train5_test1.npz\n",
      "Saved train5_test2.npz\n",
      "Saved train5_test3.npz\n",
      "Saved train5_test4.npz\n",
      "Saved train5_test5.npz\n"
     ]
    }
   ],
   "source": [
    "import numpy as np\n",
    "import pickle as pkl\n",
    "import os\n",
    "\n",
    "# Load all pickled partitions first\n",
    "x_train, y_train, x_test, y_test = [], [], [], []\n",
    "\n",
    "for i in range(NUM_PARTITIONS):\n",
    "    with open(f\"{RAW_TRAIN_DIR}/Partition{i+1}_LSBZM-Norm_FPCKNN-impute.pkl\", \"rb\") as f:\n",
    "        x_train.append(pkl.load(f))\n",
    "    with open(f\"{RAW_TRAIN_DIR}/Partition{i+1}_Labels_LSBZM-Norm_FPCKNN-impute.pkl\", \"rb\") as f:\n",
    "        y_train.append(pkl.load(f))\n",
    "\n",
    "    with open(f\"{RAW_TEST_DIR}/Partition{i+1}_RUS-Tomek-TimeGAN_LSBZM-Norm_WithoutC_FPCKNN-impute.pkl\", \"rb\") as f:\n",
    "        x_test.append(pkl.load(f))\n",
    "    with open(f\"{RAW_TEST_DIR}/Partition{i+1}_Labels_RUS-Tomek-TimeGAN_LSBZM-Norm_WithoutC_FPCKNN-impute.pkl\", \"rb\") as f:\n",
    "        y_test.append(pkl.load(f))\n",
    "\n",
    "# Create 25 (5×5) train/test pairs\n",
    "for i in range(NUM_PARTITIONS):\n",
    "    for j in range(NUM_PARTITIONS):\n",
    "        np.savez(\n",
    "            f\"{PARTITIONS_DIR}/train{i+1}_test{j+1}.npz\",\n",
    "            x_train=x_train[i],\n",
    "            y_train=y_train[i],\n",
    "            x_test=x_test[j],\n",
    "            y_test=y_test[j],\n",
    "        )\n",
    "        print(f\"Saved train{i+1}_test{j+1}.npz\")\n"
   ]
  },
  {
   "cell_type": "code",
   "execution_count": 4,
   "id": "c6edb7f8",
   "metadata": {},
   "outputs": [
    {
     "name": "stdout",
     "output_type": "stream",
     "text": [
      "Train: (73492, 60, 24) [72238  1254]\n",
      "Test : (19807, 60, 24) [10000  9807]\n"
     ]
    }
   ],
   "source": [
    "pair = np.load(PARTITIONS_DIR / \"train1_test2.npz\")\n",
    "print(\"Train:\", pair[\"x_train\"].shape, np.bincount(pair[\"y_train\"].astype(int)))\n",
    "print(\"Test :\", pair[\"x_test\"].shape,  np.bincount(pair[\"y_test\"].astype(int)))\n"
   ]
  },
  {
   "cell_type": "markdown",
   "id": "537f202c",
   "metadata": {},
   "source": [
    "** get partition pair"
   ]
  },
  {
   "cell_type": "code",
   "execution_count": 5,
   "id": "96bccce6",
   "metadata": {},
   "outputs": [],
   "source": [
    "def get_partition_pair(train_idx, test_idx):\n",
    "    pair = np.load(PARTITIONS_DIR / f\"train{train_idx+1}_test{test_idx+1}.npz\")\n",
    "    Xtr, ytr = pair[\"x_train\"], pair[\"y_train\"]\n",
    "    Xte, yte = pair[\"x_test\"], pair[\"y_test\"]\n",
    "    print(f\"Loaded train{train_idx+1}_test{test_idx+1}.npz\")\n",
    "    print(\"Train:\", Xtr.shape, np.bincount(ytr.astype(int)))\n",
    "    print(\"Test :\", Xte.shape, np.bincount(yte.astype(int)))\n",
    "    return Xtr, ytr, Xte, yte\n"
   ]
  },
  {
   "cell_type": "markdown",
   "id": "bccdaef3",
   "metadata": {},
   "source": [
    "**Preprocessing for M vs X Classification"
   ]
  },
  {
   "cell_type": "markdown",
   "id": "db6954fd",
   "metadata": {},
   "source": [
    "build hugging face dataset dir"
   ]
  },
  {
   "cell_type": "code",
   "execution_count": 6,
   "id": "7b376550",
   "metadata": {},
   "outputs": [
    {
     "name": "stderr",
     "output_type": "stream",
     "text": [
      "c:\\UCCS_Projects\\solar-flare-project\\.SoFlareEnv\\Lib\\site-packages\\tqdm\\auto.py:21: TqdmWarning: IProgress not found. Please update jupyter and ipywidgets. See https://ipywidgets.readthedocs.io/en/stable/user_install.html\n",
      "  from .autonotebook import tqdm as notebook_tqdm\n"
     ]
    },
    {
     "name": "stdout",
     "output_type": "stream",
     "text": [
      "Loaded train1_test2.npz\n",
      "Train: (73492, 60, 24) [72238  1254]\n",
      "Test : (19807, 60, 24) [10000  9807]\n"
     ]
    },
    {
     "data": {
      "text/plain": [
       "DatasetDict({\n",
       "    train: Dataset({\n",
       "        features: ['past_values', 'labels'],\n",
       "        num_rows: 73492\n",
       "    })\n",
       "    test: Dataset({\n",
       "        features: ['past_values', 'labels'],\n",
       "        num_rows: 19807\n",
       "    })\n",
       "})"
      ]
     },
     "execution_count": 6,
     "metadata": {},
     "output_type": "execute_result"
    }
   ],
   "source": [
    "from datasets import Dataset, DatasetDict\n",
    "\n",
    "Xtr, ytr, Xte, yte = get_partition_pair(0, 1)\n",
    "\n",
    "train_ds = Dataset.from_dict({\"past_values\": Xtr, \"labels\": ytr})\n",
    "test_ds  = Dataset.from_dict({\"past_values\": Xte, \"labels\": yte})\n",
    "dataset_dict = DatasetDict({\"train\": train_ds, \"test\": test_ds})\n",
    "dataset_dict\n"
   ]
  },
  {
   "cell_type": "markdown",
   "id": "4bb4a621",
   "metadata": {},
   "source": [
    "**Convert NumPy arrays to a Hugging Face DatasetDict"
   ]
  },
  {
   "cell_type": "code",
   "execution_count": null,
   "id": "4539d656",
   "metadata": {},
   "outputs": [],
   "source": [
    "#dataset_dict = build_hf_dataset(Xtr, ytr, Xte, yte)\n"
   ]
  },
  {
   "cell_type": "markdown",
   "id": "a58056ef",
   "metadata": {},
   "source": [
    "** Model Configuration and Training"
   ]
  },
  {
   "cell_type": "markdown",
   "id": "0207c069",
   "metadata": {},
   "source": [
    "define model with class weights"
   ]
  },
  {
   "cell_type": "code",
   "execution_count": 7,
   "id": "89ffe9cf",
   "metadata": {},
   "outputs": [],
   "source": [
    "import torch, torch.nn as nn\n",
    "from transformers import TimeSeriesTransformerModel\n",
    "\n",
    "class TimeSeriesTransformerForClassification(nn.Module):\n",
    "    def __init__(self, config, num_classes=2, class_weights=None):\n",
    "        super().__init__()\n",
    "        self.backbone = TimeSeriesTransformerModel(config)\n",
    "        self.fc = nn.Linear(config.d_model, num_classes)\n",
    "        self.class_weights = class_weights\n",
    "\n",
    "    def forward(self, past_values, labels=None):\n",
    "        B, T, F = past_values.shape\n",
    "        past_time_features = torch.zeros((B, T, 0), dtype=past_values.dtype, device=past_values.device)\n",
    "        past_observed_mask = torch.ones((B, T, F), dtype=torch.bool, device=past_values.device)\n",
    "\n",
    "        out = self.backbone(past_values=past_values,\n",
    "                            past_time_features=past_time_features,\n",
    "                            past_observed_mask=past_observed_mask)\n",
    "        last_hidden = out.last_hidden_state[:, -1, :]\n",
    "        logits = self.fc(last_hidden)\n",
    "        loss = None\n",
    "        if labels is not None:\n",
    "            if self.class_weights is not None:\n",
    "                loss_fn = nn.CrossEntropyLoss(weight=self.class_weights.to(logits.device))\n",
    "            else:\n",
    "                loss_fn = nn.CrossEntropyLoss()\n",
    "            loss = loss_fn(logits, labels)\n",
    "        return {\"loss\": loss, \"logits\": logits}\n"
   ]
  },
  {
   "cell_type": "markdown",
   "id": "3a1b4cf8",
   "metadata": {},
   "source": [
    "Collate and metrics"
   ]
  },
  {
   "cell_type": "code",
   "execution_count": 8,
   "id": "6abc49d5",
   "metadata": {},
   "outputs": [],
   "source": [
    "from sklearn.metrics import f1_score, precision_score, recall_score\n",
    "import numpy as np\n",
    "\n",
    "def collate_fn(batch):\n",
    "    X = torch.tensor([b[\"past_values\"] for b in batch], dtype=torch.float32)\n",
    "    y = torch.tensor([b[\"labels\"] for b in batch], dtype=torch.long)\n",
    "    return {\"past_values\": X, \"labels\": y}\n",
    "\n",
    "def compute_metrics(eval_pred):\n",
    "    logits, labels = eval_pred\n",
    "    preds = np.argmax(logits, axis=1)\n",
    "    TP = np.sum((preds==1)&(labels==1)); TN = np.sum((preds==0)&(labels==0))\n",
    "    FP = np.sum((preds==1)&(labels==0)); FN = np.sum((preds==0)&(labels==1))\n",
    "    acc = (TP+TN)/(TP+TN+FP+FN+1e-8)\n",
    "    recall = TP/(TP+FN+1e-8)\n",
    "    precision = TP/(TP+FP+1e-8)\n",
    "    f1 = f1_score(labels, preds)\n",
    "    tss = recall - (FP/(FP+TN+1e-8))\n",
    "    hss = (2*(TP*TN-FP*FN))/(((TP+FN)*(FN+TN))+((TP+FP)*(FP+TN))+1e-8)\n",
    "    return {\"accuracy\":acc,\"precision\":precision,\"recall\":recall,\"f1\":f1,\"tss\":tss,\"hss\":hss}\n"
   ]
  },
  {
   "cell_type": "markdown",
   "id": "cacee5d7",
   "metadata": {},
   "source": [
    "trainingargs and balanced trainer"
   ]
  },
  {
   "cell_type": "code",
   "execution_count": null,
   "id": "2319d129",
   "metadata": {},
   "outputs": [],
   "source": [
    "from transformers import TrainingArguments, Trainer\n",
    "from torch.utils.data import WeightedRandomSampler, DataLoader\n",
    "\n",
    "labels = np.array(dataset_dict[\"train\"][\"labels\"])\n",
    "cls_count = np.array([np.sum(labels==0), np.sum(labels==1)])\n",
    "weights = 1./cls_count\n",
    "samples_weight = np.array([weights[int(t)] for t in labels])\n",
    "sampler = WeightedRandomSampler(samples_weight, len(samples_weight), replacement=True)\n",
    "\n",
    "class BalancedTrainer(Trainer):\n",
    "    def get_train_dataloader(self):\n",
    "        return DataLoader(self.train_dataset,\n",
    "                          batch_size=self.args.train_batch_size,\n",
    "                          sampler=sampler,\n",
    "                          collate_fn=self.data_collator,\n",
    "                          drop_last=True)\n",
    "\n",
    "training_args = TrainingArguments(\n",
    "    output_dir=\"./checkpoints\",\n",
    "    num_train_epochs=2,\n",
    "    per_device_train_batch_size=8,\n",
    "    per_device_eval_batch_size=8,\n",
    "    learning_rate=1e-4,\n",
    "    warmup_ratio=0.1,\n",
    "    logging_dir=\"./logs\",\n",
    "    logging_steps=1000,\n",
    "    save_strategy=\"no\",\n",
    ")\n"
   ]
  },
  {
   "cell_type": "markdown",
   "id": "20e3a426",
   "metadata": {},
   "source": [
    "** Train the Model and Evaluate Metrics"
   ]
  },
  {
   "cell_type": "code",
   "execution_count": 11,
   "id": "ad5e7055",
   "metadata": {},
   "outputs": [
    {
     "data": {
      "text/html": [
       "\n",
       "    <div>\n",
       "      \n",
       "      <progress value='18372' max='18372' style='width:300px; height:20px; vertical-align: middle;'></progress>\n",
       "      [18372/18372 17:48, Epoch 2/2]\n",
       "    </div>\n",
       "    <table border=\"1\" class=\"dataframe\">\n",
       "  <thead>\n",
       " <tr style=\"text-align: left;\">\n",
       "      <th>Step</th>\n",
       "      <th>Training Loss</th>\n",
       "    </tr>\n",
       "  </thead>\n",
       "  <tbody>\n",
       "    <tr>\n",
       "      <td>500</td>\n",
       "      <td>0.382700</td>\n",
       "    </tr>\n",
       "    <tr>\n",
       "      <td>1000</td>\n",
       "      <td>0.097500</td>\n",
       "    </tr>\n",
       "    <tr>\n",
       "      <td>1500</td>\n",
       "      <td>0.104200</td>\n",
       "    </tr>\n",
       "    <tr>\n",
       "      <td>2000</td>\n",
       "      <td>0.046800</td>\n",
       "    </tr>\n",
       "    <tr>\n",
       "      <td>2500</td>\n",
       "      <td>0.045800</td>\n",
       "    </tr>\n",
       "    <tr>\n",
       "      <td>3000</td>\n",
       "      <td>0.059900</td>\n",
       "    </tr>\n",
       "    <tr>\n",
       "      <td>3500</td>\n",
       "      <td>0.042000</td>\n",
       "    </tr>\n",
       "    <tr>\n",
       "      <td>4000</td>\n",
       "      <td>0.044000</td>\n",
       "    </tr>\n",
       "    <tr>\n",
       "      <td>4500</td>\n",
       "      <td>0.038000</td>\n",
       "    </tr>\n",
       "    <tr>\n",
       "      <td>5000</td>\n",
       "      <td>0.033600</td>\n",
       "    </tr>\n",
       "    <tr>\n",
       "      <td>5500</td>\n",
       "      <td>0.039700</td>\n",
       "    </tr>\n",
       "    <tr>\n",
       "      <td>6000</td>\n",
       "      <td>0.052800</td>\n",
       "    </tr>\n",
       "    <tr>\n",
       "      <td>6500</td>\n",
       "      <td>0.041100</td>\n",
       "    </tr>\n",
       "    <tr>\n",
       "      <td>7000</td>\n",
       "      <td>0.041500</td>\n",
       "    </tr>\n",
       "    <tr>\n",
       "      <td>7500</td>\n",
       "      <td>0.035600</td>\n",
       "    </tr>\n",
       "    <tr>\n",
       "      <td>8000</td>\n",
       "      <td>0.053600</td>\n",
       "    </tr>\n",
       "    <tr>\n",
       "      <td>8500</td>\n",
       "      <td>0.043100</td>\n",
       "    </tr>\n",
       "    <tr>\n",
       "      <td>9000</td>\n",
       "      <td>0.035700</td>\n",
       "    </tr>\n",
       "    <tr>\n",
       "      <td>9500</td>\n",
       "      <td>0.056400</td>\n",
       "    </tr>\n",
       "    <tr>\n",
       "      <td>10000</td>\n",
       "      <td>0.030200</td>\n",
       "    </tr>\n",
       "    <tr>\n",
       "      <td>10500</td>\n",
       "      <td>0.046400</td>\n",
       "    </tr>\n",
       "    <tr>\n",
       "      <td>11000</td>\n",
       "      <td>0.050400</td>\n",
       "    </tr>\n",
       "    <tr>\n",
       "      <td>11500</td>\n",
       "      <td>0.062700</td>\n",
       "    </tr>\n",
       "    <tr>\n",
       "      <td>12000</td>\n",
       "      <td>0.041300</td>\n",
       "    </tr>\n",
       "    <tr>\n",
       "      <td>12500</td>\n",
       "      <td>0.042700</td>\n",
       "    </tr>\n",
       "    <tr>\n",
       "      <td>13000</td>\n",
       "      <td>0.043500</td>\n",
       "    </tr>\n",
       "    <tr>\n",
       "      <td>13500</td>\n",
       "      <td>0.054700</td>\n",
       "    </tr>\n",
       "    <tr>\n",
       "      <td>14000</td>\n",
       "      <td>0.033300</td>\n",
       "    </tr>\n",
       "    <tr>\n",
       "      <td>14500</td>\n",
       "      <td>0.050100</td>\n",
       "    </tr>\n",
       "    <tr>\n",
       "      <td>15000</td>\n",
       "      <td>0.058800</td>\n",
       "    </tr>\n",
       "    <tr>\n",
       "      <td>15500</td>\n",
       "      <td>0.055700</td>\n",
       "    </tr>\n",
       "    <tr>\n",
       "      <td>16000</td>\n",
       "      <td>0.039800</td>\n",
       "    </tr>\n",
       "    <tr>\n",
       "      <td>16500</td>\n",
       "      <td>0.037800</td>\n",
       "    </tr>\n",
       "    <tr>\n",
       "      <td>17000</td>\n",
       "      <td>0.037200</td>\n",
       "    </tr>\n",
       "    <tr>\n",
       "      <td>17500</td>\n",
       "      <td>0.039300</td>\n",
       "    </tr>\n",
       "    <tr>\n",
       "      <td>18000</td>\n",
       "      <td>0.036000</td>\n",
       "    </tr>\n",
       "  </tbody>\n",
       "</table><p>"
      ],
      "text/plain": [
       "<IPython.core.display.HTML object>"
      ]
     },
     "metadata": {},
     "output_type": "display_data"
    },
    {
     "data": {
      "text/plain": [
       "TrainOutput(global_step=18372, training_loss=0.056565006599949515, metrics={'train_runtime': 1068.8293, 'train_samples_per_second': 137.519, 'train_steps_per_second': 17.189, 'total_flos': 0.0, 'train_loss': 0.056565006599949515, 'epoch': 2.0})"
      ]
     },
     "execution_count": 11,
     "metadata": {},
     "output_type": "execute_result"
    }
   ],
   "source": [
    "from transformers import TimeSeriesTransformerConfig\n",
    "\n",
    "config = TimeSeriesTransformerConfig(\n",
    "    prediction_length=1,\n",
    "    context_length=NUM_TIMESTEPS,\n",
    "    input_size=NUM_FEATURES,\n",
    "    lags_sequence=[0],\n",
    "    dropout=0.2,\n",
    "    attention_dropout=0.2,\n",
    "    num_encoder_layers=4,\n",
    "    d_model=128,\n",
    ")\n",
    "\n",
    "# class weights\n",
    "w1 = (cls_count[0]/cls_count[1])\n",
    "class_weights = torch.tensor([1.0, w1*1.5], dtype=torch.float32)\n",
    "model = TimeSeriesTransformerForClassification(config, class_weights=class_weights)\n",
    "\n",
    "trainer = BalancedTrainer(\n",
    "    model=model,\n",
    "    args=training_args,\n",
    "    train_dataset=dataset_dict[\"train\"],\n",
    "    eval_dataset=dataset_dict[\"test\"],\n",
    "    data_collator=collate_fn,\n",
    "    compute_metrics=compute_metrics,\n",
    ")\n",
    "\n",
    "trainer.train()\n"
   ]
  },
  {
   "cell_type": "markdown",
   "id": "ad3220bd",
   "metadata": {},
   "source": [
    "evaluation and plots"
   ]
  },
  {
   "cell_type": "code",
   "execution_count": 14,
   "id": "c1735366",
   "metadata": {},
   "outputs": [
    {
     "name": "stdout",
     "output_type": "stream",
     "text": [
      "Evaluating model on test set...\n"
     ]
    },
    {
     "name": "stderr",
     "output_type": "stream",
     "text": [
      "c:\\UCCS_Projects\\solar-flare-project\\.SoFlareEnv\\Lib\\site-packages\\torch\\utils\\data\\dataloader.py:668: UserWarning: 'pin_memory' argument is set as true but no accelerator is found, then device pinned memory won't be used.\n",
      "  warnings.warn(warn_msg)\n"
     ]
    },
    {
     "data": {
      "text/html": [],
      "text/plain": [
       "<IPython.core.display.HTML object>"
      ]
     },
     "metadata": {},
     "output_type": "display_data"
    },
    {
     "name": "stdout",
     "output_type": "stream",
     "text": [
      "\n",
      "Final Evaluation Metrics:\n",
      "Accuracy:  0.8171\n",
      "Precision: 0.9809\n",
      "Recall:    0.6432\n",
      "F1 Score:  0.7769\n",
      "TSS:       0.6309\n"
     ]
    },
    {
     "data": {
      "image/png": "[encoded data removed]",
      "text/plain": [
       "<Figure size 500x400 with 2 Axes>"
      ]
     },
     "metadata": {},
     "output_type": "display_data"
    },
    {
     "data": {
      "image/png": "[encoded data removed]",
      "text/plain": [
       "<Figure size 1000x400 with 2 Axes>"
      ]
     },
     "metadata": {},
     "output_type": "display_data"
    }
   ],
   "source": [
    "\n",
    "import numpy as np\n",
    "import matplotlib.pyplot as plt\n",
    "import seaborn as sns\n",
    "from sklearn.metrics import (\n",
    "    accuracy_score, precision_score, recall_score,\n",
    "    f1_score, confusion_matrix\n",
    ")\n",
    "import torch\n",
    "\n",
    "# Run model evaluation\n",
    "print(\"Evaluating model on test set...\")\n",
    "predictions = trainer.predict(dataset_dict[\"test\"])\n",
    "\n",
    "# Extract logits and labels\n",
    "y_true = predictions.label_ids\n",
    "y_pred = np.argmax(predictions.predictions, axis=1)\n",
    "\n",
    "# ---- Compute metrics ----\n",
    "accuracy  = accuracy_score(y_true, y_pred)\n",
    "precision = precision_score(y_true, y_pred, zero_division=0)\n",
    "recall    = recall_score(y_true, y_pred, zero_division=0)\n",
    "f1        = f1_score(y_true, y_pred, zero_division=0)\n",
    "\n",
    "# Compute TSS\n",
    "cm = confusion_matrix(y_true, y_pred)\n",
    "if cm.shape == (2, 2):  # Ensure binary case\n",
    "    tn, fp, fn, tp = cm.ravel()\n",
    "    tss = (tp / (tp + fn + 1e-9)) - (fp / (fp + tn + 1e-9))\n",
    "else:\n",
    "    tss = np.nan\n",
    "\n",
    "print(f\"\\nFinal Evaluation Metrics:\")\n",
    "print(f\"Accuracy:  {accuracy:.4f}\")\n",
    "print(f\"Precision: {precision:.4f}\")\n",
    "print(f\"Recall:    {recall:.4f}\")\n",
    "print(f\"F1 Score:  {f1:.4f}\")\n",
    "print(f\"TSS:       {tss:.4f}\")\n",
    "\n",
    "# ---- Confusion Matrix ----\n",
    "plt.figure(figsize=(5,4))\n",
    "sns.heatmap(cm, annot=True, fmt=\"d\", cmap=\"Blues\",\n",
    "            xticklabels=[\"Pred M\", \"Pred X\"],\n",
    "            yticklabels=[\"True M\", \"True X\"])\n",
    "plt.title(\"Confusion Matrix (Test Set)\")\n",
    "plt.xlabel(\"Predicted\")\n",
    "plt.ylabel(\"True\")\n",
    "plt.tight_layout()\n",
    "plt.show()\n",
    "\n",
    "# ---- Training Curves ----\n",
    "log_history = trainer.state.log_history\n",
    "\n",
    "# Extract metrics across steps\n",
    "train_loss = [x[\"loss\"] for x in log_history if \"loss\" in x]\n",
    "eval_loss  = [x[\"eval_loss\"] for x in log_history if \"eval_loss\" in x]\n",
    "eval_acc   = [x[\"eval_accuracy\"] for x in log_history if \"eval_accuracy\" in x]\n",
    "\n",
    "plt.figure(figsize=(10,4))\n",
    "plt.subplot(1,2,1)\n",
    "plt.plot(train_loss, label=\"Train Loss\")\n",
    "plt.plot(eval_loss,  label=\"Eval Loss\")\n",
    "plt.xlabel(\"Evaluation Step\")\n",
    "plt.ylabel(\"Loss\")\n",
    "plt.legend()\n",
    "plt.title(\"Training vs Evaluation Loss\")\n",
    "\n",
    "plt.subplot(1,2,2)\n",
    "plt.plot(eval_acc, color=\"green\")\n",
    "plt.xlabel(\"Evaluation Step\")\n",
    "plt.ylabel(\"Accuracy\")\n",
    "plt.title(\"Evaluation Accuracy Over Time\")\n",
    "plt.tight_layout()\n",
    "plt.show()\n"
   ]
  }
 ],
 "metadata": {
  "kernelspec": {
   "display_name": ".SoFlareEnv (3.12.4)",
   "language": "python",
   "name": "python3"
  },
  "language_info": {
   "codemirror_mode": {
    "name": "ipython",
    "version": 3
   },
   "file_extension": ".py",
   "mimetype": "text/x-python",
   "name": "python",
   "nbconvert_exporter": "python",
   "pygments_lexer": "ipython3",
   "version": "3.12.4"
  }
 },
 "nbformat": 4,
 "nbformat_minor": 5
}
