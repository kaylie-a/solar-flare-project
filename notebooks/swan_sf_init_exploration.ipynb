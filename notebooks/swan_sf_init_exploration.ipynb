{
 "cells": [
  {
   "cell_type": "code",
   "execution_count": null,
   "id": "c63a4d19",
   "metadata": {},
   "outputs": [
    {
     "ename": "",
     "evalue": "",
     "output_type": "error",
     "traceback": [
      "\u001b[1;31mRunning cells with '.venv (3.13.2) (Python 3.13.2)' requires the ipykernel package.\n",
      "\u001b[1;31mInstall 'ipykernel' into the Python environment. \n",
      "\u001b[1;31mCommand: '\"c:/Users/white/OneDrive/Documents/UCCS/FALL 2025 classes/CS 4870 ANN/solar-flare-project/.venv/Scripts/python.exe\" -m pip install ipykernel -U --force-reinstall'"
     ]
    }
   ],
   "source": [
    "import pickle\n",
    "\n",
    "# Use raw string (prefix with r) to handle backslashes\n",
    "pkl_file_path = r'Cleaned SWANSF Dataset\\Cleaned SWANSF Dataset\\train\\Partition1_Labels_RUS-Tomek-TimeGAN_LSBZM-Norm_WithoutC_FPCKNN-impute.pkl'\n",
    "\n",
    "with open(pkl_file_path, 'rb') as file:\n",
    "    data = pickle.load(file)\n",
    "\n",
    "print(f\"Type of object: {type(data)}\")\n",
    "if isinstance(data, dict):\n",
    "    print(\"Preview:\", list(data.items())[:5])\n",
    "elif isinstance(data, list):\n",
    "    print(\"Preview:\", data[:5])\n",
    "else:\n",
    "    print(\"Data:\", data)"
   ]
  },
  {
   "cell_type": "code",
   "execution_count": null,
   "id": "19d442d1",
   "metadata": {},
   "outputs": [],
   "source": [
    "import numpy as np\n",
    "\n",
    "# Basic info\n",
    "print(\"Shape:\", data.shape)\n",
    "print(\"Data type:\", data.dtype)\n",
    "\n",
    "# Preview\n",
    "print(\"First 10 values:\", data[:10])\n",
    "\n",
    "# Summary statistics\n",
    "print(\"Min:\", np.min(data))\n",
    "print(\"Max:\", np.max(data))\n",
    "print(\"Unique values:\", np.unique(data))\n",
    "print(\"Counts:\", dict(zip(*np.unique(data, return_counts=True))))"
   ]
  },
  {
   "cell_type": "code",
   "execution_count": null,
   "id": "75a1fe15",
   "metadata": {},
   "outputs": [],
   "source": [
    "# Load Partition 1 features (X)\n",
    "features_path = r'Cleaned SWANSF Dataset\\Cleaned SWANSF Dataset\\train\\Partition1_RUS-Tomek-TimeGAN_LSBZM-Norm_WithoutC_FPCKNN-impute.pkl'\n",
    "\n",
    "with open(features_path, 'rb') as f:\n",
    "    X = pickle.load(f)\n",
    "\n",
    "print(f\"Type: {type(X)}\")"
   ]
  },
  {
   "cell_type": "code",
   "execution_count": null,
   "id": "7b41008a",
   "metadata": {},
   "outputs": [],
   "source": [
    "import pandas as pd\n",
    "\n",
    "column_names = ['R_VALUE', 'TOTUSJH', 'TOTBSQ', 'TOTPOT', 'TOTUSJZ', 'ABSNJZH', 'SAVNCPP', 'USFLUX', 'TOTFZ', 'MEANPOT', 'EPSX', 'EPSY', 'EPSZ', 'MEANSHR', 'SHRGT45', 'MEANGAM', 'MEANGBT', 'MEANGBZ', 'MEANGBH', 'MEANJZH', 'TOTFY', 'MEANJZD', 'MEANALP', 'TOTFX']  # Fill in your actual attributes\n",
    "df = pd.DataFrame(X, columns=column_names)\n",
    "display(df.head())"
   ]
  },
  {
   "cell_type": "code",
   "execution_count": null,
   "id": "c8a2bf10",
   "metadata": {},
   "outputs": [],
   "source": [
    "sample_0 = pd.DataFrame(X[0], columns=column_names)\n",
    "display(sample_0.head(60))"
   ]
  }
 ],
 "metadata": {
  "kernelspec": {
   "display_name": ".venv (3.13.2)",
   "language": "python",
   "name": "python3"
  },
  "language_info": {
   "codemirror_mode": {
    "name": "ipython",
    "version": 3
   },
   "file_extension": ".py",
   "mimetype": "text/x-python",
   "name": "python",
   "nbconvert_exporter": "python",
   "pygments_lexer": "ipython3",
   "version": "3.13.2"
  }
 },
 "nbformat": 4,
 "nbformat_minor": 5
}
